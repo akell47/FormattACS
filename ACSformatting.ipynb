{
 "cells": [
  {
   "cell_type": "code",
   "execution_count": 2,
   "metadata": {
    "collapsed": false
   },
   "outputs": [
    {
     "data": {
      "text/plain": [
       "True"
      ]
     },
     "execution_count": 2,
     "metadata": {},
     "output_type": "execute_result"
    }
   ],
   "source": [
    "2==2"
   ]
  },
  {
   "cell_type": "code",
   "execution_count": 3,
   "metadata": {
    "collapsed": false
   },
   "outputs": [
    {
     "data": {
      "text/plain": [
       "4"
      ]
     },
     "execution_count": 3,
     "metadata": {},
     "output_type": "execute_result"
    }
   ],
   "source": [
    "2+2"
   ]
  },
  {
   "cell_type": "code",
   "execution_count": 4,
   "metadata": {
    "collapsed": true
   },
   "outputs": [],
   "source": [
    "import pandas as pd"
   ]
  },
  {
   "cell_type": "markdown",
   "metadata": {},
   "source": [
    "## Race "
   ]
  },
  {
   "cell_type": "code",
   "execution_count": 6,
   "metadata": {
    "collapsed": false
   },
   "outputs": [
    {
     "data": {
      "text/plain": [
       "Index([u'Id', u'Id2', u'Geography', u'Estimate; Total:',\n",
       "       u'Margin of Error; Total:', u'Estimate; Total: - White alone',\n",
       "       u'Margin of Error; Total: - White alone',\n",
       "       u'Estimate; Total: - Black or African American alone',\n",
       "       u'Margin of Error; Total: - Black or African American alone',\n",
       "       u'Estimate; Total: - American Indian and Alaska Native alone',\n",
       "       u'Margin of Error; Total: - American Indian and Alaska Native alone',\n",
       "       u'Estimate; Total: - Asian alone',\n",
       "       u'Margin of Error; Total: - Asian alone',\n",
       "       u'Estimate; Total: - Native Hawaiian and Other Pacific Islander alone',\n",
       "       u'Margin of Error; Total: - Native Hawaiian and Other Pacific Islander alone',\n",
       "       u'Estimate; Total: - Some other race alone',\n",
       "       u'Margin of Error; Total: - Some other race alone',\n",
       "       u'Estimate; Total: - Two or more races:',\n",
       "       u'Margin of Error; Total: - Two or more races:',\n",
       "       u'Estimate; Total: - Two or more races: - Two races including Some other race',\n",
       "       u'Margin of Error; Total: - Two or more races: - Two races including Some other race',\n",
       "       u'Estimate; Total: - Two or more races: - Two races excluding Some other race, and three or more races',\n",
       "       u'Margin of Error; Total: - Two or more races: - Two races excluding Some other race, and three or more races'],\n",
       "      dtype='object')"
      ]
     },
     "execution_count": 6,
     "metadata": {},
     "output_type": "execute_result"
    }
   ],
   "source": [
    "Race = pd.read_csv('Georgia\\ACS_15_5YR_B02001_Race.csv')\n",
    "Race.columns"
   ]
  },
  {
   "cell_type": "code",
   "execution_count": 7,
   "metadata": {
    "collapsed": false
   },
   "outputs": [],
   "source": [
    "def removeChars(df):\n",
    "    for ch in [';', ':', '-', '(' ,')', ',']:\n",
    "        df.columns = df.columns.str.replace(ch, '')"
   ]
  },
  {
   "cell_type": "code",
   "execution_count": 8,
   "metadata": {
    "collapsed": false
   },
   "outputs": [
    {
     "data": {
      "text/plain": [
       "Index([u'ID', u'ID2', u'GEOGRAPHY', u'EST_T', u'EST_T_WHITE_ALONE',\n",
       "       u'EST_T_BLACK_OR_AFRICAN_AMERICAN_ALONE',\n",
       "       u'EST_T_AMERICAN_INDIAN_ALASKA_NATIVE_ALONE', u'EST_T_ASIAN_ALONE',\n",
       "       u'EST_T_NATIVE_HAWAIIAN_OTHER_PACIFIC_ISLANDER_ALONE',\n",
       "       u'EST_T_SOME_OTHER_RACE_ALONE', u'EST_T_TWO_OR_MORE_RACES',\n",
       "       u'EST_T_TWO_OR_MORE_RACES_TWO_RACES_INCLUDING_SOME_OTHER_RACE',\n",
       "       u'EST_T_TWO_OR_MORE_RACES_TWO_RACES_EXCLUDING_SOME_OTHER_RACE_THREE_OR_MORE_RACES'],\n",
       "      dtype='object')"
      ]
     },
     "execution_count": 8,
     "metadata": {},
     "output_type": "execute_result"
    }
   ],
   "source": [
    "removeChars(Race)\n",
    "\n",
    "Race.columns = Race.columns.str.upper().str.replace(' AND ', ' ').str.replace('ESTIMATE', 'EST').str.replace(\n",
    "    'TOTAL', 'T').str.strip().str.replace('  ',' ').str.replace(' ','_')\n",
    "\n",
    "cols = [c for c in Race.columns if c.upper()[:15] != 'MARGIN_OF_ERROR']\n",
    "Race = Race[cols]\n",
    "\n",
    "Race.columns"
   ]
  },
  {
   "cell_type": "code",
   "execution_count": 9,
   "metadata": {
    "collapsed": false
   },
   "outputs": [
    {
     "data": {
      "text/plain": [
       "Index([u'ID', u'ID2', u'GEOGRAPHY', u'EST_T', u'EST_T_WHITE_ALONE',\n",
       "       u'EST_T_BLACK_OR_AFRICAN_AMERICAN_ALONE',\n",
       "       u'EST_T_AMERICAN_INDIAN_ALASKA_NATIVE_ALONE', u'EST_T_ASIAN_ALONE',\n",
       "       u'EST_T_NATIVE_HAWAIIAN_OTHER_PACIFIC_ISLANDER_ALONE',\n",
       "       u'EST_T_SOME_OTHER_RACE_ALONE', u'EST_T_TWO_RACES'],\n",
       "      dtype='object')"
      ]
     },
     "execution_count": 9,
     "metadata": {},
     "output_type": "execute_result"
    }
   ],
   "source": [
    "Race['EST_T_TWO_RACES'] = Race['EST_T_TWO_OR_MORE_RACES'] + Race[\n",
    "    'EST_T_TWO_OR_MORE_RACES_TWO_RACES_INCLUDING_SOME_OTHER_RACE'] + Race[\n",
    "'EST_T_TWO_OR_MORE_RACES_TWO_RACES_EXCLUDING_SOME_OTHER_RACE_THREE_OR_MORE_RACES']\n",
    "\n",
    "\n",
    "Race.DropCols = DropCols= [\n",
    "    'EST_T_TWO_OR_MORE_RACES',\n",
    "    'EST_T_TWO_OR_MORE_RACES_TWO_RACES_INCLUDING_SOME_OTHER_RACE',\n",
    "    'EST_T_TWO_OR_MORE_RACES_TWO_RACES_EXCLUDING_SOME_OTHER_RACE_THREE_OR_MORE_RACES',\n",
    "]\n",
    "\n",
    "\n",
    "Race.drop(DropCols, axis = 1, inplace = True)\n",
    "Race.columns"
   ]
  },
  {
   "cell_type": "code",
   "execution_count": 10,
   "metadata": {
    "collapsed": false
   },
   "outputs": [
    {
     "data": {
      "text/plain": [
       "[('ID', 0),\n",
       " ('ID2', 1),\n",
       " ('GEOGRAPHY', 2),\n",
       " ('EST_T', 3),\n",
       " ('EST_T_WHITE_ALONE', 4),\n",
       " ('EST_T_BLACK_OR_AFRICAN_AMERICAN_ALONE', 5),\n",
       " ('EST_T_AMERICAN_INDIAN_ALASKA_NATIVE_ALONE', 6),\n",
       " ('EST_T_ASIAN_ALONE', 7),\n",
       " ('EST_T_NATIVE_HAWAIIAN_OTHER_PACIFIC_ISLANDER_ALONE', 8),\n",
       " ('EST_T_SOME_OTHER_RACE_ALONE', 9),\n",
       " ('EST_T_TWO_RACES', 10)]"
      ]
     },
     "execution_count": 10,
     "metadata": {},
     "output_type": "execute_result"
    }
   ],
   "source": [
    "zip((Race.columns.tolist()), range(len(Race.columns.tolist())))"
   ]
  },
  {
   "cell_type": "code",
   "execution_count": 12,
   "metadata": {
    "collapsed": false
   },
   "outputs": [
    {
     "data": {
      "text/html": [
       "<div>\n",
       "<table border=\"1\" class=\"dataframe\">\n",
       "  <thead>\n",
       "    <tr style=\"text-align: right;\">\n",
       "      <th></th>\n",
       "      <th>PCT_EST_T_WHITE_ALONE</th>\n",
       "      <th>PCT_EST_T_BLACK_OR_AFRICAN_AMERICAN_ALONE</th>\n",
       "      <th>PCT_EST_T_AMERICAN_INDIAN_ALASKA_NATIVE_ALONE</th>\n",
       "      <th>PCT_EST_T_ASIAN_ALONE</th>\n",
       "      <th>PCT_EST_T_NATIVE_HAWAIIAN_OTHER_PACIFIC_ISLANDER_ALONE</th>\n",
       "      <th>PCT_EST_T_SOME_OTHER_RACE_ALONE</th>\n",
       "      <th>PCT_EST_T_TWO_RACES</th>\n",
       "    </tr>\n",
       "  </thead>\n",
       "  <tbody>\n",
       "    <tr>\n",
       "      <th>0</th>\n",
       "      <td>95.065789</td>\n",
       "      <td>1.425439</td>\n",
       "      <td>2.302632</td>\n",
       "      <td>1.206140</td>\n",
       "      <td>0.000000</td>\n",
       "      <td>0.000000</td>\n",
       "      <td>0.000000</td>\n",
       "    </tr>\n",
       "    <tr>\n",
       "      <th>1</th>\n",
       "      <td>97.838271</td>\n",
       "      <td>2.161729</td>\n",
       "      <td>0.000000</td>\n",
       "      <td>0.000000</td>\n",
       "      <td>0.000000</td>\n",
       "      <td>0.000000</td>\n",
       "      <td>0.000000</td>\n",
       "    </tr>\n",
       "    <tr>\n",
       "      <th>2</th>\n",
       "      <td>55.304519</td>\n",
       "      <td>38.359528</td>\n",
       "      <td>0.000000</td>\n",
       "      <td>0.000000</td>\n",
       "      <td>0.000000</td>\n",
       "      <td>6.335953</td>\n",
       "      <td>0.000000</td>\n",
       "    </tr>\n",
       "    <tr>\n",
       "      <th>3</th>\n",
       "      <td>52.542373</td>\n",
       "      <td>43.126177</td>\n",
       "      <td>0.000000</td>\n",
       "      <td>0.000000</td>\n",
       "      <td>0.000000</td>\n",
       "      <td>0.251099</td>\n",
       "      <td>8.160703</td>\n",
       "    </tr>\n",
       "    <tr>\n",
       "      <th>4</th>\n",
       "      <td>37.741313</td>\n",
       "      <td>56.660232</td>\n",
       "      <td>0.000000</td>\n",
       "      <td>5.598456</td>\n",
       "      <td>0.000000</td>\n",
       "      <td>0.000000</td>\n",
       "      <td>0.000000</td>\n",
       "    </tr>\n",
       "    <tr>\n",
       "      <th>5</th>\n",
       "      <td>52.683616</td>\n",
       "      <td>35.169492</td>\n",
       "      <td>0.000000</td>\n",
       "      <td>6.355932</td>\n",
       "      <td>0.000000</td>\n",
       "      <td>0.000000</td>\n",
       "      <td>11.581921</td>\n",
       "    </tr>\n",
       "    <tr>\n",
       "      <th>6</th>\n",
       "      <td>85.741325</td>\n",
       "      <td>7.634069</td>\n",
       "      <td>0.000000</td>\n",
       "      <td>0.000000</td>\n",
       "      <td>0.000000</td>\n",
       "      <td>0.000000</td>\n",
       "      <td>13.249211</td>\n",
       "    </tr>\n",
       "    <tr>\n",
       "      <th>7</th>\n",
       "      <td>79.078341</td>\n",
       "      <td>14.009217</td>\n",
       "      <td>0.000000</td>\n",
       "      <td>3.686636</td>\n",
       "      <td>0.000000</td>\n",
       "      <td>0.000000</td>\n",
       "      <td>6.451613</td>\n",
       "    </tr>\n",
       "    <tr>\n",
       "      <th>8</th>\n",
       "      <td>68.452780</td>\n",
       "      <td>15.874079</td>\n",
       "      <td>0.000000</td>\n",
       "      <td>0.000000</td>\n",
       "      <td>0.000000</td>\n",
       "      <td>15.673141</td>\n",
       "      <td>0.000000</td>\n",
       "    </tr>\n",
       "    <tr>\n",
       "      <th>9</th>\n",
       "      <td>40.662252</td>\n",
       "      <td>59.337748</td>\n",
       "      <td>0.000000</td>\n",
       "      <td>0.000000</td>\n",
       "      <td>0.000000</td>\n",
       "      <td>0.000000</td>\n",
       "      <td>0.000000</td>\n",
       "    </tr>\n",
       "    <tr>\n",
       "      <th>10</th>\n",
       "      <td>100.000000</td>\n",
       "      <td>0.000000</td>\n",
       "      <td>0.000000</td>\n",
       "      <td>0.000000</td>\n",
       "      <td>0.000000</td>\n",
       "      <td>0.000000</td>\n",
       "      <td>0.000000</td>\n",
       "    </tr>\n",
       "    <tr>\n",
       "      <th>11</th>\n",
       "      <td>98.273381</td>\n",
       "      <td>0.000000</td>\n",
       "      <td>0.000000</td>\n",
       "      <td>0.000000</td>\n",
       "      <td>1.726619</td>\n",
       "      <td>0.000000</td>\n",
       "      <td>0.000000</td>\n",
       "    </tr>\n",
       "    <tr>\n",
       "      <th>12</th>\n",
       "      <td>90.047676</td>\n",
       "      <td>8.939213</td>\n",
       "      <td>0.000000</td>\n",
       "      <td>0.000000</td>\n",
       "      <td>0.000000</td>\n",
       "      <td>0.000000</td>\n",
       "      <td>2.026222</td>\n",
       "    </tr>\n",
       "    <tr>\n",
       "      <th>13</th>\n",
       "      <td>100.000000</td>\n",
       "      <td>0.000000</td>\n",
       "      <td>0.000000</td>\n",
       "      <td>0.000000</td>\n",
       "      <td>0.000000</td>\n",
       "      <td>0.000000</td>\n",
       "      <td>0.000000</td>\n",
       "    </tr>\n",
       "    <tr>\n",
       "      <th>14</th>\n",
       "      <td>82.444229</td>\n",
       "      <td>6.886518</td>\n",
       "      <td>0.000000</td>\n",
       "      <td>0.000000</td>\n",
       "      <td>0.000000</td>\n",
       "      <td>9.020369</td>\n",
       "      <td>3.297769</td>\n",
       "    </tr>\n",
       "    <tr>\n",
       "      <th>15</th>\n",
       "      <td>38.330171</td>\n",
       "      <td>33.111954</td>\n",
       "      <td>0.000000</td>\n",
       "      <td>0.000000</td>\n",
       "      <td>0.000000</td>\n",
       "      <td>20.683112</td>\n",
       "      <td>15.749526</td>\n",
       "    </tr>\n",
       "    <tr>\n",
       "      <th>16</th>\n",
       "      <td>74.046921</td>\n",
       "      <td>2.688172</td>\n",
       "      <td>0.000000</td>\n",
       "      <td>0.000000</td>\n",
       "      <td>0.000000</td>\n",
       "      <td>23.264907</td>\n",
       "      <td>0.000000</td>\n",
       "    </tr>\n",
       "    <tr>\n",
       "      <th>17</th>\n",
       "      <td>43.936567</td>\n",
       "      <td>38.992537</td>\n",
       "      <td>0.932836</td>\n",
       "      <td>0.000000</td>\n",
       "      <td>0.000000</td>\n",
       "      <td>14.645522</td>\n",
       "      <td>2.985075</td>\n",
       "    </tr>\n",
       "    <tr>\n",
       "      <th>18</th>\n",
       "      <td>61.322870</td>\n",
       "      <td>27.410314</td>\n",
       "      <td>0.000000</td>\n",
       "      <td>0.000000</td>\n",
       "      <td>0.000000</td>\n",
       "      <td>8.408072</td>\n",
       "      <td>5.717489</td>\n",
       "    </tr>\n",
       "    <tr>\n",
       "      <th>19</th>\n",
       "      <td>92.348891</td>\n",
       "      <td>3.596021</td>\n",
       "      <td>1.071155</td>\n",
       "      <td>0.000000</td>\n",
       "      <td>0.000000</td>\n",
       "      <td>1.453711</td>\n",
       "      <td>3.060444</td>\n",
       "    </tr>\n",
       "  </tbody>\n",
       "</table>\n",
       "</div>"
      ],
      "text/plain": [
       "    PCT_EST_T_WHITE_ALONE  PCT_EST_T_BLACK_OR_AFRICAN_AMERICAN_ALONE  \\\n",
       "0               95.065789                                   1.425439   \n",
       "1               97.838271                                   2.161729   \n",
       "2               55.304519                                  38.359528   \n",
       "3               52.542373                                  43.126177   \n",
       "4               37.741313                                  56.660232   \n",
       "5               52.683616                                  35.169492   \n",
       "6               85.741325                                   7.634069   \n",
       "7               79.078341                                  14.009217   \n",
       "8               68.452780                                  15.874079   \n",
       "9               40.662252                                  59.337748   \n",
       "10             100.000000                                   0.000000   \n",
       "11              98.273381                                   0.000000   \n",
       "12              90.047676                                   8.939213   \n",
       "13             100.000000                                   0.000000   \n",
       "14              82.444229                                   6.886518   \n",
       "15              38.330171                                  33.111954   \n",
       "16              74.046921                                   2.688172   \n",
       "17              43.936567                                  38.992537   \n",
       "18              61.322870                                  27.410314   \n",
       "19              92.348891                                   3.596021   \n",
       "\n",
       "    PCT_EST_T_AMERICAN_INDIAN_ALASKA_NATIVE_ALONE  PCT_EST_T_ASIAN_ALONE  \\\n",
       "0                                        2.302632               1.206140   \n",
       "1                                        0.000000               0.000000   \n",
       "2                                        0.000000               0.000000   \n",
       "3                                        0.000000               0.000000   \n",
       "4                                        0.000000               5.598456   \n",
       "5                                        0.000000               6.355932   \n",
       "6                                        0.000000               0.000000   \n",
       "7                                        0.000000               3.686636   \n",
       "8                                        0.000000               0.000000   \n",
       "9                                        0.000000               0.000000   \n",
       "10                                       0.000000               0.000000   \n",
       "11                                       0.000000               0.000000   \n",
       "12                                       0.000000               0.000000   \n",
       "13                                       0.000000               0.000000   \n",
       "14                                       0.000000               0.000000   \n",
       "15                                       0.000000               0.000000   \n",
       "16                                       0.000000               0.000000   \n",
       "17                                       0.932836               0.000000   \n",
       "18                                       0.000000               0.000000   \n",
       "19                                       1.071155               0.000000   \n",
       "\n",
       "    PCT_EST_T_NATIVE_HAWAIIAN_OTHER_PACIFIC_ISLANDER_ALONE  \\\n",
       "0                                            0.000000        \n",
       "1                                            0.000000        \n",
       "2                                            0.000000        \n",
       "3                                            0.000000        \n",
       "4                                            0.000000        \n",
       "5                                            0.000000        \n",
       "6                                            0.000000        \n",
       "7                                            0.000000        \n",
       "8                                            0.000000        \n",
       "9                                            0.000000        \n",
       "10                                           0.000000        \n",
       "11                                           1.726619        \n",
       "12                                           0.000000        \n",
       "13                                           0.000000        \n",
       "14                                           0.000000        \n",
       "15                                           0.000000        \n",
       "16                                           0.000000        \n",
       "17                                           0.000000        \n",
       "18                                           0.000000        \n",
       "19                                           0.000000        \n",
       "\n",
       "    PCT_EST_T_SOME_OTHER_RACE_ALONE  PCT_EST_T_TWO_RACES  \n",
       "0                          0.000000             0.000000  \n",
       "1                          0.000000             0.000000  \n",
       "2                          6.335953             0.000000  \n",
       "3                          0.251099             8.160703  \n",
       "4                          0.000000             0.000000  \n",
       "5                          0.000000            11.581921  \n",
       "6                          0.000000            13.249211  \n",
       "7                          0.000000             6.451613  \n",
       "8                         15.673141             0.000000  \n",
       "9                          0.000000             0.000000  \n",
       "10                         0.000000             0.000000  \n",
       "11                         0.000000             0.000000  \n",
       "12                         0.000000             2.026222  \n",
       "13                         0.000000             0.000000  \n",
       "14                         9.020369             3.297769  \n",
       "15                        20.683112            15.749526  \n",
       "16                        23.264907             0.000000  \n",
       "17                        14.645522             2.985075  \n",
       "18                         8.408072             5.717489  \n",
       "19                         1.453711             3.060444  "
      ]
     },
     "execution_count": 12,
     "metadata": {},
     "output_type": "execute_result"
    }
   ],
   "source": [
    "#df.iloc[:,1:].div(df.A, axis=0)\n",
    "RacePcts = (Race.iloc[:, 4:].div(Race.EST_T, axis = 0))*100\n",
    "RacePcts = RacePcts.add_prefix('PCT_')\n",
    "RacePcts.head(20)"
   ]
  },
  {
   "cell_type": "code",
   "execution_count": 15,
   "metadata": {
    "collapsed": false
   },
   "outputs": [
    {
     "data": {
      "text/html": [
       "<div>\n",
       "<table border=\"1\" class=\"dataframe\">\n",
       "  <thead>\n",
       "    <tr style=\"text-align: right;\">\n",
       "      <th></th>\n",
       "      <th>ID</th>\n",
       "      <th>ID2</th>\n",
       "      <th>GEOGRAPHY</th>\n",
       "      <th>EST_T</th>\n",
       "      <th>EST_T_WHITE_ALONE</th>\n",
       "      <th>EST_T_BLACK_OR_AFRICAN_AMERICAN_ALONE</th>\n",
       "      <th>EST_T_AMERICAN_INDIAN_ALASKA_NATIVE_ALONE</th>\n",
       "      <th>EST_T_ASIAN_ALONE</th>\n",
       "      <th>EST_T_NATIVE_HAWAIIAN_OTHER_PACIFIC_ISLANDER_ALONE</th>\n",
       "      <th>EST_T_SOME_OTHER_RACE_ALONE</th>\n",
       "      <th>EST_T_TWO_RACES</th>\n",
       "      <th>PCT_EST_T_WHITE_ALONE</th>\n",
       "      <th>PCT_EST_T_BLACK_OR_AFRICAN_AMERICAN_ALONE</th>\n",
       "      <th>PCT_EST_T_AMERICAN_INDIAN_ALASKA_NATIVE_ALONE</th>\n",
       "      <th>PCT_EST_T_ASIAN_ALONE</th>\n",
       "      <th>PCT_EST_T_NATIVE_HAWAIIAN_OTHER_PACIFIC_ISLANDER_ALONE</th>\n",
       "      <th>PCT_EST_T_SOME_OTHER_RACE_ALONE</th>\n",
       "      <th>PCT_EST_T_TWO_RACES</th>\n",
       "    </tr>\n",
       "  </thead>\n",
       "  <tbody>\n",
       "    <tr>\n",
       "      <th>0</th>\n",
       "      <td>1500000US130019501001</td>\n",
       "      <td>130019501001</td>\n",
       "      <td>Block Group 1, Census Tract 9501, Appling Coun...</td>\n",
       "      <td>912</td>\n",
       "      <td>867</td>\n",
       "      <td>13</td>\n",
       "      <td>21</td>\n",
       "      <td>11</td>\n",
       "      <td>0</td>\n",
       "      <td>0</td>\n",
       "      <td>0</td>\n",
       "      <td>95.065789</td>\n",
       "      <td>1.425439</td>\n",
       "      <td>2.302632</td>\n",
       "      <td>1.206140</td>\n",
       "      <td>0.0</td>\n",
       "      <td>0.000000</td>\n",
       "      <td>0.000000</td>\n",
       "    </tr>\n",
       "    <tr>\n",
       "      <th>1</th>\n",
       "      <td>1500000US130019501002</td>\n",
       "      <td>130019501002</td>\n",
       "      <td>Block Group 2, Census Tract 9501, Appling Coun...</td>\n",
       "      <td>2498</td>\n",
       "      <td>2444</td>\n",
       "      <td>54</td>\n",
       "      <td>0</td>\n",
       "      <td>0</td>\n",
       "      <td>0</td>\n",
       "      <td>0</td>\n",
       "      <td>0</td>\n",
       "      <td>97.838271</td>\n",
       "      <td>2.161729</td>\n",
       "      <td>0.000000</td>\n",
       "      <td>0.000000</td>\n",
       "      <td>0.0</td>\n",
       "      <td>0.000000</td>\n",
       "      <td>0.000000</td>\n",
       "    </tr>\n",
       "    <tr>\n",
       "      <th>2</th>\n",
       "      <td>1500000US130019502001</td>\n",
       "      <td>130019502001</td>\n",
       "      <td>Block Group 1, Census Tract 9502, Appling Coun...</td>\n",
       "      <td>2036</td>\n",
       "      <td>1126</td>\n",
       "      <td>781</td>\n",
       "      <td>0</td>\n",
       "      <td>0</td>\n",
       "      <td>0</td>\n",
       "      <td>129</td>\n",
       "      <td>0</td>\n",
       "      <td>55.304519</td>\n",
       "      <td>38.359528</td>\n",
       "      <td>0.000000</td>\n",
       "      <td>0.000000</td>\n",
       "      <td>0.0</td>\n",
       "      <td>6.335953</td>\n",
       "      <td>0.000000</td>\n",
       "    </tr>\n",
       "    <tr>\n",
       "      <th>3</th>\n",
       "      <td>1500000US130019502002</td>\n",
       "      <td>130019502002</td>\n",
       "      <td>Block Group 2, Census Tract 9502, Appling Coun...</td>\n",
       "      <td>1593</td>\n",
       "      <td>837</td>\n",
       "      <td>687</td>\n",
       "      <td>0</td>\n",
       "      <td>0</td>\n",
       "      <td>0</td>\n",
       "      <td>4</td>\n",
       "      <td>130</td>\n",
       "      <td>52.542373</td>\n",
       "      <td>43.126177</td>\n",
       "      <td>0.000000</td>\n",
       "      <td>0.000000</td>\n",
       "      <td>0.0</td>\n",
       "      <td>0.251099</td>\n",
       "      <td>8.160703</td>\n",
       "    </tr>\n",
       "    <tr>\n",
       "      <th>4</th>\n",
       "      <td>1500000US130019502003</td>\n",
       "      <td>130019502003</td>\n",
       "      <td>Block Group 3, Census Tract 9502, Appling Coun...</td>\n",
       "      <td>1036</td>\n",
       "      <td>391</td>\n",
       "      <td>587</td>\n",
       "      <td>0</td>\n",
       "      <td>58</td>\n",
       "      <td>0</td>\n",
       "      <td>0</td>\n",
       "      <td>0</td>\n",
       "      <td>37.741313</td>\n",
       "      <td>56.660232</td>\n",
       "      <td>0.000000</td>\n",
       "      <td>5.598456</td>\n",
       "      <td>0.0</td>\n",
       "      <td>0.000000</td>\n",
       "      <td>0.000000</td>\n",
       "    </tr>\n",
       "  </tbody>\n",
       "</table>\n",
       "</div>"
      ],
      "text/plain": [
       "                      ID           ID2  \\\n",
       "0  1500000US130019501001  130019501001   \n",
       "1  1500000US130019501002  130019501002   \n",
       "2  1500000US130019502001  130019502001   \n",
       "3  1500000US130019502002  130019502002   \n",
       "4  1500000US130019502003  130019502003   \n",
       "\n",
       "                                           GEOGRAPHY  EST_T  \\\n",
       "0  Block Group 1, Census Tract 9501, Appling Coun...    912   \n",
       "1  Block Group 2, Census Tract 9501, Appling Coun...   2498   \n",
       "2  Block Group 1, Census Tract 9502, Appling Coun...   2036   \n",
       "3  Block Group 2, Census Tract 9502, Appling Coun...   1593   \n",
       "4  Block Group 3, Census Tract 9502, Appling Coun...   1036   \n",
       "\n",
       "   EST_T_WHITE_ALONE  EST_T_BLACK_OR_AFRICAN_AMERICAN_ALONE  \\\n",
       "0                867                                     13   \n",
       "1               2444                                     54   \n",
       "2               1126                                    781   \n",
       "3                837                                    687   \n",
       "4                391                                    587   \n",
       "\n",
       "   EST_T_AMERICAN_INDIAN_ALASKA_NATIVE_ALONE  EST_T_ASIAN_ALONE  \\\n",
       "0                                         21                 11   \n",
       "1                                          0                  0   \n",
       "2                                          0                  0   \n",
       "3                                          0                  0   \n",
       "4                                          0                 58   \n",
       "\n",
       "   EST_T_NATIVE_HAWAIIAN_OTHER_PACIFIC_ISLANDER_ALONE  \\\n",
       "0                                                  0    \n",
       "1                                                  0    \n",
       "2                                                  0    \n",
       "3                                                  0    \n",
       "4                                                  0    \n",
       "\n",
       "   EST_T_SOME_OTHER_RACE_ALONE  EST_T_TWO_RACES  PCT_EST_T_WHITE_ALONE  \\\n",
       "0                            0                0              95.065789   \n",
       "1                            0                0              97.838271   \n",
       "2                          129                0              55.304519   \n",
       "3                            4              130              52.542373   \n",
       "4                            0                0              37.741313   \n",
       "\n",
       "   PCT_EST_T_BLACK_OR_AFRICAN_AMERICAN_ALONE  \\\n",
       "0                                   1.425439   \n",
       "1                                   2.161729   \n",
       "2                                  38.359528   \n",
       "3                                  43.126177   \n",
       "4                                  56.660232   \n",
       "\n",
       "   PCT_EST_T_AMERICAN_INDIAN_ALASKA_NATIVE_ALONE  PCT_EST_T_ASIAN_ALONE  \\\n",
       "0                                       2.302632               1.206140   \n",
       "1                                       0.000000               0.000000   \n",
       "2                                       0.000000               0.000000   \n",
       "3                                       0.000000               0.000000   \n",
       "4                                       0.000000               5.598456   \n",
       "\n",
       "   PCT_EST_T_NATIVE_HAWAIIAN_OTHER_PACIFIC_ISLANDER_ALONE  \\\n",
       "0                                                0.0        \n",
       "1                                                0.0        \n",
       "2                                                0.0        \n",
       "3                                                0.0        \n",
       "4                                                0.0        \n",
       "\n",
       "   PCT_EST_T_SOME_OTHER_RACE_ALONE  PCT_EST_T_TWO_RACES  \n",
       "0                         0.000000             0.000000  \n",
       "1                         0.000000             0.000000  \n",
       "2                         6.335953             0.000000  \n",
       "3                         0.251099             8.160703  \n",
       "4                         0.000000             0.000000  "
      ]
     },
     "execution_count": 15,
     "metadata": {},
     "output_type": "execute_result"
    }
   ],
   "source": [
    "Race = Race.join(RacePcts)\n",
    "Race.head()"
   ]
  },
  {
   "cell_type": "code",
   "execution_count": 16,
   "metadata": {
    "collapsed": false
   },
   "outputs": [
    {
     "data": {
      "text/plain": [
       "(5533, 18)"
      ]
     },
     "execution_count": 16,
     "metadata": {},
     "output_type": "execute_result"
    }
   ],
   "source": [
    "Race.shape"
   ]
  },
  {
   "cell_type": "code",
   "execution_count": 17,
   "metadata": {
    "collapsed": false
   },
   "outputs": [
    {
     "name": "stderr",
     "output_type": "stream",
     "text": [
      "C:\\Users\\Amber\\Anaconda2\\lib\\site-packages\\numpy\\lib\\function_base.py:3834: RuntimeWarning: Invalid value encountered in percentile\n",
      "  RuntimeWarning)\n"
     ]
    },
    {
     "data": {
      "text/html": [
       "<div>\n",
       "<table border=\"1\" class=\"dataframe\">\n",
       "  <thead>\n",
       "    <tr style=\"text-align: right;\">\n",
       "      <th></th>\n",
       "      <th>EST_T_WHITE_ALONE</th>\n",
       "      <th>EST_T_BLACK_OR_AFRICAN_AMERICAN_ALONE</th>\n",
       "      <th>EST_T_AMERICAN_INDIAN_ALASKA_NATIVE_ALONE</th>\n",
       "      <th>EST_T_ASIAN_ALONE</th>\n",
       "      <th>EST_T_NATIVE_HAWAIIAN_OTHER_PACIFIC_ISLANDER_ALONE</th>\n",
       "      <th>EST_T_SOME_OTHER_RACE_ALONE</th>\n",
       "      <th>EST_T_TWO_RACES</th>\n",
       "      <th>PCT_EST_T_WHITE_ALONE</th>\n",
       "      <th>PCT_EST_T_BLACK_OR_AFRICAN_AMERICAN_ALONE</th>\n",
       "      <th>PCT_EST_T_AMERICAN_INDIAN_ALASKA_NATIVE_ALONE</th>\n",
       "      <th>PCT_EST_T_ASIAN_ALONE</th>\n",
       "      <th>PCT_EST_T_NATIVE_HAWAIIAN_OTHER_PACIFIC_ISLANDER_ALONE</th>\n",
       "      <th>PCT_EST_T_SOME_OTHER_RACE_ALONE</th>\n",
       "      <th>PCT_EST_T_TWO_RACES</th>\n",
       "    </tr>\n",
       "  </thead>\n",
       "  <tbody>\n",
       "    <tr>\n",
       "      <th>count</th>\n",
       "      <td>5533.000000</td>\n",
       "      <td>5533.000000</td>\n",
       "      <td>5533.000000</td>\n",
       "      <td>5533.000000</td>\n",
       "      <td>5533.000000</td>\n",
       "      <td>5533.000000</td>\n",
       "      <td>5533.000000</td>\n",
       "      <td>5520.000000</td>\n",
       "      <td>5520.000000</td>\n",
       "      <td>5520.000000</td>\n",
       "      <td>5520.000000</td>\n",
       "      <td>5520.000000</td>\n",
       "      <td>5520.000000</td>\n",
       "      <td>5520.000000</td>\n",
       "    </tr>\n",
       "    <tr>\n",
       "      <th>mean</th>\n",
       "      <td>1089.045906</td>\n",
       "      <td>559.688596</td>\n",
       "      <td>4.678655</td>\n",
       "      <td>65.145129</td>\n",
       "      <td>0.850172</td>\n",
       "      <td>50.497560</td>\n",
       "      <td>77.282848</td>\n",
       "      <td>59.579127</td>\n",
       "      <td>32.595947</td>\n",
       "      <td>0.247774</td>\n",
       "      <td>2.957424</td>\n",
       "      <td>0.056227</td>\n",
       "      <td>2.573883</td>\n",
       "      <td>3.979239</td>\n",
       "    </tr>\n",
       "    <tr>\n",
       "      <th>std</th>\n",
       "      <td>886.048179</td>\n",
       "      <td>702.982957</td>\n",
       "      <td>19.881667</td>\n",
       "      <td>168.908135</td>\n",
       "      <td>7.897559</td>\n",
       "      <td>128.021858</td>\n",
       "      <td>126.268839</td>\n",
       "      <td>30.174355</td>\n",
       "      <td>30.432886</td>\n",
       "      <td>1.014195</td>\n",
       "      <td>6.314356</td>\n",
       "      <td>0.662520</td>\n",
       "      <td>5.977490</td>\n",
       "      <td>5.895007</td>\n",
       "    </tr>\n",
       "    <tr>\n",
       "      <th>min</th>\n",
       "      <td>0.000000</td>\n",
       "      <td>0.000000</td>\n",
       "      <td>0.000000</td>\n",
       "      <td>0.000000</td>\n",
       "      <td>0.000000</td>\n",
       "      <td>0.000000</td>\n",
       "      <td>0.000000</td>\n",
       "      <td>0.000000</td>\n",
       "      <td>0.000000</td>\n",
       "      <td>0.000000</td>\n",
       "      <td>0.000000</td>\n",
       "      <td>0.000000</td>\n",
       "      <td>0.000000</td>\n",
       "      <td>0.000000</td>\n",
       "    </tr>\n",
       "    <tr>\n",
       "      <th>25%</th>\n",
       "      <td>452.000000</td>\n",
       "      <td>100.000000</td>\n",
       "      <td>0.000000</td>\n",
       "      <td>0.000000</td>\n",
       "      <td>0.000000</td>\n",
       "      <td>0.000000</td>\n",
       "      <td>0.000000</td>\n",
       "      <td>NaN</td>\n",
       "      <td>NaN</td>\n",
       "      <td>NaN</td>\n",
       "      <td>NaN</td>\n",
       "      <td>NaN</td>\n",
       "      <td>NaN</td>\n",
       "      <td>NaN</td>\n",
       "    </tr>\n",
       "    <tr>\n",
       "      <th>50%</th>\n",
       "      <td>917.000000</td>\n",
       "      <td>338.000000</td>\n",
       "      <td>0.000000</td>\n",
       "      <td>1.000000</td>\n",
       "      <td>0.000000</td>\n",
       "      <td>0.000000</td>\n",
       "      <td>30.000000</td>\n",
       "      <td>NaN</td>\n",
       "      <td>NaN</td>\n",
       "      <td>NaN</td>\n",
       "      <td>NaN</td>\n",
       "      <td>NaN</td>\n",
       "      <td>NaN</td>\n",
       "      <td>NaN</td>\n",
       "    </tr>\n",
       "    <tr>\n",
       "      <th>75%</th>\n",
       "      <td>1539.000000</td>\n",
       "      <td>768.000000</td>\n",
       "      <td>0.000000</td>\n",
       "      <td>56.000000</td>\n",
       "      <td>0.000000</td>\n",
       "      <td>38.000000</td>\n",
       "      <td>102.000000</td>\n",
       "      <td>NaN</td>\n",
       "      <td>NaN</td>\n",
       "      <td>NaN</td>\n",
       "      <td>NaN</td>\n",
       "      <td>NaN</td>\n",
       "      <td>NaN</td>\n",
       "      <td>NaN</td>\n",
       "    </tr>\n",
       "    <tr>\n",
       "      <th>max</th>\n",
       "      <td>9009.000000</td>\n",
       "      <td>9680.000000</td>\n",
       "      <td>509.000000</td>\n",
       "      <td>3066.000000</td>\n",
       "      <td>261.000000</td>\n",
       "      <td>1656.000000</td>\n",
       "      <td>1806.000000</td>\n",
       "      <td>100.000000</td>\n",
       "      <td>100.000000</td>\n",
       "      <td>18.695015</td>\n",
       "      <td>74.638380</td>\n",
       "      <td>27.555556</td>\n",
       "      <td>65.905383</td>\n",
       "      <td>123.809524</td>\n",
       "    </tr>\n",
       "  </tbody>\n",
       "</table>\n",
       "</div>"
      ],
      "text/plain": [
       "       EST_T_WHITE_ALONE  EST_T_BLACK_OR_AFRICAN_AMERICAN_ALONE  \\\n",
       "count        5533.000000                            5533.000000   \n",
       "mean         1089.045906                             559.688596   \n",
       "std           886.048179                             702.982957   \n",
       "min             0.000000                               0.000000   \n",
       "25%           452.000000                             100.000000   \n",
       "50%           917.000000                             338.000000   \n",
       "75%          1539.000000                             768.000000   \n",
       "max          9009.000000                            9680.000000   \n",
       "\n",
       "       EST_T_AMERICAN_INDIAN_ALASKA_NATIVE_ALONE  EST_T_ASIAN_ALONE  \\\n",
       "count                                5533.000000        5533.000000   \n",
       "mean                                    4.678655          65.145129   \n",
       "std                                    19.881667         168.908135   \n",
       "min                                     0.000000           0.000000   \n",
       "25%                                     0.000000           0.000000   \n",
       "50%                                     0.000000           1.000000   \n",
       "75%                                     0.000000          56.000000   \n",
       "max                                   509.000000        3066.000000   \n",
       "\n",
       "       EST_T_NATIVE_HAWAIIAN_OTHER_PACIFIC_ISLANDER_ALONE  \\\n",
       "count                                        5533.000000    \n",
       "mean                                            0.850172    \n",
       "std                                             7.897559    \n",
       "min                                             0.000000    \n",
       "25%                                             0.000000    \n",
       "50%                                             0.000000    \n",
       "75%                                             0.000000    \n",
       "max                                           261.000000    \n",
       "\n",
       "       EST_T_SOME_OTHER_RACE_ALONE  EST_T_TWO_RACES  PCT_EST_T_WHITE_ALONE  \\\n",
       "count                  5533.000000      5533.000000            5520.000000   \n",
       "mean                     50.497560        77.282848              59.579127   \n",
       "std                     128.021858       126.268839              30.174355   \n",
       "min                       0.000000         0.000000               0.000000   \n",
       "25%                       0.000000         0.000000                    NaN   \n",
       "50%                       0.000000        30.000000                    NaN   \n",
       "75%                      38.000000       102.000000                    NaN   \n",
       "max                    1656.000000      1806.000000             100.000000   \n",
       "\n",
       "       PCT_EST_T_BLACK_OR_AFRICAN_AMERICAN_ALONE  \\\n",
       "count                                5520.000000   \n",
       "mean                                   32.595947   \n",
       "std                                    30.432886   \n",
       "min                                     0.000000   \n",
       "25%                                          NaN   \n",
       "50%                                          NaN   \n",
       "75%                                          NaN   \n",
       "max                                   100.000000   \n",
       "\n",
       "       PCT_EST_T_AMERICAN_INDIAN_ALASKA_NATIVE_ALONE  PCT_EST_T_ASIAN_ALONE  \\\n",
       "count                                    5520.000000            5520.000000   \n",
       "mean                                        0.247774               2.957424   \n",
       "std                                         1.014195               6.314356   \n",
       "min                                         0.000000               0.000000   \n",
       "25%                                              NaN                    NaN   \n",
       "50%                                              NaN                    NaN   \n",
       "75%                                              NaN                    NaN   \n",
       "max                                        18.695015              74.638380   \n",
       "\n",
       "       PCT_EST_T_NATIVE_HAWAIIAN_OTHER_PACIFIC_ISLANDER_ALONE  \\\n",
       "count                                        5520.000000        \n",
       "mean                                            0.056227        \n",
       "std                                             0.662520        \n",
       "min                                             0.000000        \n",
       "25%                                                  NaN        \n",
       "50%                                                  NaN        \n",
       "75%                                                  NaN        \n",
       "max                                            27.555556        \n",
       "\n",
       "       PCT_EST_T_SOME_OTHER_RACE_ALONE  PCT_EST_T_TWO_RACES  \n",
       "count                      5520.000000          5520.000000  \n",
       "mean                          2.573883             3.979239  \n",
       "std                           5.977490             5.895007  \n",
       "min                           0.000000             0.000000  \n",
       "25%                                NaN                  NaN  \n",
       "50%                                NaN                  NaN  \n",
       "75%                                NaN                  NaN  \n",
       "max                          65.905383           123.809524  "
      ]
     },
     "execution_count": 17,
     "metadata": {},
     "output_type": "execute_result"
    }
   ],
   "source": [
    "RaceNums = Race.iloc[:, 4:]\n",
    "RaceNums.describe()"
   ]
  },
  {
   "cell_type": "code",
   "execution_count": 19,
   "metadata": {
    "collapsed": false
   },
   "outputs": [],
   "source": [
    "Race.to_csv('Georgia/RaceBG.csv')"
   ]
  },
  {
   "cell_type": "markdown",
   "metadata": {},
   "source": [
    "## Latino"
   ]
  },
  {
   "cell_type": "code",
   "execution_count": 20,
   "metadata": {
    "collapsed": false
   },
   "outputs": [
    {
     "data": {
      "text/plain": [
       "Index([u'Id', u'Id2', u'Geography', u'Estimate; Total:',\n",
       "       u'Margin of Error; Total:',\n",
       "       u'Estimate; Total: - Not Hispanic or Latino',\n",
       "       u'Margin of Error; Total: - Not Hispanic or Latino',\n",
       "       u'Estimate; Total: - Hispanic or Latino',\n",
       "       u'Margin of Error; Total: - Hispanic or Latino'],\n",
       "      dtype='object')"
      ]
     },
     "execution_count": 20,
     "metadata": {},
     "output_type": "execute_result"
    }
   ],
   "source": [
    "Latino = pd.read_csv('Georgia/ACS_15_5YR_B03003_Latino.csv')\n",
    "Latino.columns"
   ]
  },
  {
   "cell_type": "code",
   "execution_count": 21,
   "metadata": {
    "collapsed": false
   },
   "outputs": [
    {
     "data": {
      "text/plain": [
       "Index([u'ID', u'ID2', u'GEOGRAPHY', u'EST_T', u'EST_T_NOT_HISPANIC_OR_LATINO',\n",
       "       u'EST_T_HISPANIC_OR_LATINO'],\n",
       "      dtype='object')"
      ]
     },
     "execution_count": 21,
     "metadata": {},
     "output_type": "execute_result"
    }
   ],
   "source": [
    "removeChars(Latino)\n",
    "Latino.columns = Latino.columns.str.upper().str.replace(' AND ', ' ').str.replace('ESTIMATE', 'EST').str.replace(\n",
    "    'TOTAL', 'T').str.strip().str.replace('  ',' ').str.replace(' ','_')\n",
    "cols = [c for c in Latino.columns if c.upper()[:15] != 'MARGIN_OF_ERROR']\n",
    "Latino = Latino[cols]\n",
    "Latino.columns"
   ]
  },
  {
   "cell_type": "code",
   "execution_count": 22,
   "metadata": {
    "collapsed": false
   },
   "outputs": [
    {
     "data": {
      "text/plain": [
       "Index([u'ID', u'ID2', u'GEOGRAPHY', u'EST_T', u'EST_T_NOT_HISPANIC_OR_LATINO',\n",
       "       u'EST_T_HISPANIC_OR_LATINO', u'PCT_Latino'],\n",
       "      dtype='object')"
      ]
     },
     "execution_count": 22,
     "metadata": {},
     "output_type": "execute_result"
    }
   ],
   "source": [
    "Latino['PCT_Latino'] = (Latino['EST_T_HISPANIC_OR_LATINO'].div(Latino['EST_T']))*100\n",
    "Latino.columns"
   ]
  },
  {
   "cell_type": "code",
   "execution_count": 23,
   "metadata": {
    "collapsed": false
   },
   "outputs": [
    {
     "data": {
      "text/plain": [
       "8.242865669165308"
      ]
     },
     "execution_count": 23,
     "metadata": {},
     "output_type": "execute_result"
    }
   ],
   "source": [
    "Latino.PCT_Latino.mean()"
   ]
  },
  {
   "cell_type": "code",
   "execution_count": 24,
   "metadata": {
    "collapsed": true
   },
   "outputs": [],
   "source": [
    "Latino.to_csv('Georgia/LatinoBG.csv')"
   ]
  },
  {
   "cell_type": "markdown",
   "metadata": {},
   "source": [
    "## Median Household Income"
   ]
  },
  {
   "cell_type": "code",
   "execution_count": 25,
   "metadata": {
    "collapsed": false
   },
   "outputs": [
    {
     "data": {
      "text/plain": [
       "Index([u'Id', u'Id2', u'Geography',\n",
       "       u'Estimate; Median household income in the past 12 months (in 2015 Inflation-adjusted dollars)',\n",
       "       u'Margin of Error; Median household income in the past 12 months (in 2015 Inflation-adjusted dollars)'],\n",
       "      dtype='object')"
      ]
     },
     "execution_count": 25,
     "metadata": {},
     "output_type": "execute_result"
    }
   ],
   "source": [
    "MHI = pd.read_csv('Georgia/ACS_15_5YR_B19013_MHI.csv')\n",
    "MHI.columns"
   ]
  },
  {
   "cell_type": "code",
   "execution_count": 26,
   "metadata": {
    "collapsed": false
   },
   "outputs": [
    {
     "data": {
      "text/plain": [
       "Index([u'ID', u'ID2', u'GEOGRAPHY',\n",
       "       u'EST_MEDIAN_HOUSEHOLD_INCOME_IN_THE_PAST_12_MONTHS_IN_2015_INFLATIONADJUSTED_DOLLARS'],\n",
       "      dtype='object')"
      ]
     },
     "execution_count": 26,
     "metadata": {},
     "output_type": "execute_result"
    }
   ],
   "source": [
    "removeChars(MHI)\n",
    "MHI.columns = MHI.columns.str.upper().str.replace(' AND ', ' ').str.replace('ESTIMATE', 'EST').str.replace(\n",
    "    'TOTAL', 'T').str.strip().str.replace('  ',' ').str.replace(' ','_')\n",
    "cols = [c for c in MHI.columns if c.upper()[:15] != 'MARGIN_OF_ERROR']\n",
    "MHI = MHI[cols]\n",
    "MHI.columns"
   ]
  },
  {
   "cell_type": "code",
   "execution_count": 27,
   "metadata": {
    "collapsed": true
   },
   "outputs": [],
   "source": [
    "MHI.to_csv('Georgia/MHIncomeBG.csv')"
   ]
  },
  {
   "cell_type": "markdown",
   "metadata": {},
   "source": [
    "## Housing Units Tenure "
   ]
  },
  {
   "cell_type": "code",
   "execution_count": 28,
   "metadata": {
    "collapsed": false
   },
   "outputs": [
    {
     "data": {
      "text/plain": [
       "Index([u'Id', u'Id2', u'Geography', u'Estimate; Total:',\n",
       "       u'Margin of Error; Total:', u'Estimate; Total: - Owner occupied',\n",
       "       u'Margin of Error; Total: - Owner occupied',\n",
       "       u'Estimate; Total: - Renter occupied',\n",
       "       u'Margin of Error; Total: - Renter occupied'],\n",
       "      dtype='object')"
      ]
     },
     "execution_count": 28,
     "metadata": {},
     "output_type": "execute_result"
    }
   ],
   "source": [
    "Housing = pd.read_csv('Georgia/ACS_15_5YR_B25008_HousingUnitsTenure.csv')\n",
    "Housing.columns"
   ]
  },
  {
   "cell_type": "code",
   "execution_count": 29,
   "metadata": {
    "collapsed": false
   },
   "outputs": [
    {
     "data": {
      "text/plain": [
       "Index([u'ID', u'ID2', u'GEOGRAPHY', u'EST_T', u'EST_T_OWNER_OCCUPIED',\n",
       "       u'EST_T_RENTER_OCCUPIED'],\n",
       "      dtype='object')"
      ]
     },
     "execution_count": 29,
     "metadata": {},
     "output_type": "execute_result"
    }
   ],
   "source": [
    "removeChars(Housing)\n",
    "Housing.columns = Housing.columns.str.upper().str.replace(' AND ', ' ').str.replace('ESTIMATE', 'EST').str.replace(\n",
    "    'TOTAL', 'T').str.strip().str.replace('  ',' ').str.replace(' ','_')\n",
    "cols = [c for c in Housing.columns if c.upper()[:15] != 'MARGIN_OF_ERROR']\n",
    "Housing = Housing[cols]\n",
    "Housing.columns"
   ]
  },
  {
   "cell_type": "code",
   "execution_count": 30,
   "metadata": {
    "collapsed": false
   },
   "outputs": [
    {
     "data": {
      "text/html": [
       "<div>\n",
       "<table border=\"1\" class=\"dataframe\">\n",
       "  <thead>\n",
       "    <tr style=\"text-align: right;\">\n",
       "      <th></th>\n",
       "      <th>PCT_EST_T_OWNER_OCCUPIED</th>\n",
       "      <th>PCT_EST_T_RENTER_OCCUPIED</th>\n",
       "    </tr>\n",
       "  </thead>\n",
       "  <tbody>\n",
       "    <tr>\n",
       "      <th>count</th>\n",
       "      <td>5510.000000</td>\n",
       "      <td>5510.000000</td>\n",
       "    </tr>\n",
       "    <tr>\n",
       "      <th>mean</th>\n",
       "      <td>61.566154</td>\n",
       "      <td>38.433846</td>\n",
       "    </tr>\n",
       "    <tr>\n",
       "      <th>std</th>\n",
       "      <td>25.577350</td>\n",
       "      <td>25.577350</td>\n",
       "    </tr>\n",
       "    <tr>\n",
       "      <th>min</th>\n",
       "      <td>0.000000</td>\n",
       "      <td>0.000000</td>\n",
       "    </tr>\n",
       "    <tr>\n",
       "      <th>25%</th>\n",
       "      <td>NaN</td>\n",
       "      <td>NaN</td>\n",
       "    </tr>\n",
       "    <tr>\n",
       "      <th>50%</th>\n",
       "      <td>NaN</td>\n",
       "      <td>NaN</td>\n",
       "    </tr>\n",
       "    <tr>\n",
       "      <th>75%</th>\n",
       "      <td>NaN</td>\n",
       "      <td>NaN</td>\n",
       "    </tr>\n",
       "    <tr>\n",
       "      <th>max</th>\n",
       "      <td>100.000000</td>\n",
       "      <td>100.000000</td>\n",
       "    </tr>\n",
       "  </tbody>\n",
       "</table>\n",
       "</div>"
      ],
      "text/plain": [
       "       PCT_EST_T_OWNER_OCCUPIED  PCT_EST_T_RENTER_OCCUPIED\n",
       "count               5510.000000                5510.000000\n",
       "mean                  61.566154                  38.433846\n",
       "std                   25.577350                  25.577350\n",
       "min                    0.000000                   0.000000\n",
       "25%                         NaN                        NaN\n",
       "50%                         NaN                        NaN\n",
       "75%                         NaN                        NaN\n",
       "max                  100.000000                 100.000000"
      ]
     },
     "execution_count": 30,
     "metadata": {},
     "output_type": "execute_result"
    }
   ],
   "source": [
    "HousingPcts = (Housing.iloc[:, 4:].div(Housing.EST_T, axis = 0))*100\n",
    "HousingPcts = HousingPcts.add_prefix('PCT_')\n",
    "HousingPcts.describe()"
   ]
  },
  {
   "cell_type": "code",
   "execution_count": 31,
   "metadata": {
    "collapsed": false
   },
   "outputs": [
    {
     "data": {
      "text/html": [
       "<div>\n",
       "<table border=\"1\" class=\"dataframe\">\n",
       "  <thead>\n",
       "    <tr style=\"text-align: right;\">\n",
       "      <th></th>\n",
       "      <th>ID</th>\n",
       "      <th>ID2</th>\n",
       "      <th>GEOGRAPHY</th>\n",
       "      <th>EST_T</th>\n",
       "      <th>EST_T_OWNER_OCCUPIED</th>\n",
       "      <th>EST_T_RENTER_OCCUPIED</th>\n",
       "      <th>PCT_EST_T_OWNER_OCCUPIED</th>\n",
       "      <th>PCT_EST_T_RENTER_OCCUPIED</th>\n",
       "    </tr>\n",
       "  </thead>\n",
       "  <tbody>\n",
       "    <tr>\n",
       "      <th>0</th>\n",
       "      <td>1500000US130019501001</td>\n",
       "      <td>130019501001</td>\n",
       "      <td>Block Group 1, Census Tract 9501, Appling Coun...</td>\n",
       "      <td>912</td>\n",
       "      <td>664</td>\n",
       "      <td>248</td>\n",
       "      <td>72.807018</td>\n",
       "      <td>27.192982</td>\n",
       "    </tr>\n",
       "    <tr>\n",
       "      <th>1</th>\n",
       "      <td>1500000US130019501002</td>\n",
       "      <td>130019501002</td>\n",
       "      <td>Block Group 2, Census Tract 9501, Appling Coun...</td>\n",
       "      <td>2475</td>\n",
       "      <td>2086</td>\n",
       "      <td>389</td>\n",
       "      <td>84.282828</td>\n",
       "      <td>15.717172</td>\n",
       "    </tr>\n",
       "    <tr>\n",
       "      <th>2</th>\n",
       "      <td>1500000US130019502001</td>\n",
       "      <td>130019502001</td>\n",
       "      <td>Block Group 1, Census Tract 9502, Appling Coun...</td>\n",
       "      <td>2036</td>\n",
       "      <td>1642</td>\n",
       "      <td>394</td>\n",
       "      <td>80.648330</td>\n",
       "      <td>19.351670</td>\n",
       "    </tr>\n",
       "    <tr>\n",
       "      <th>3</th>\n",
       "      <td>1500000US130019502002</td>\n",
       "      <td>130019502002</td>\n",
       "      <td>Block Group 2, Census Tract 9502, Appling Coun...</td>\n",
       "      <td>1300</td>\n",
       "      <td>494</td>\n",
       "      <td>806</td>\n",
       "      <td>38.000000</td>\n",
       "      <td>62.000000</td>\n",
       "    </tr>\n",
       "    <tr>\n",
       "      <th>4</th>\n",
       "      <td>1500000US130019502003</td>\n",
       "      <td>130019502003</td>\n",
       "      <td>Block Group 3, Census Tract 9502, Appling Coun...</td>\n",
       "      <td>1036</td>\n",
       "      <td>707</td>\n",
       "      <td>329</td>\n",
       "      <td>68.243243</td>\n",
       "      <td>31.756757</td>\n",
       "    </tr>\n",
       "    <tr>\n",
       "      <th>5</th>\n",
       "      <td>1500000US130019503001</td>\n",
       "      <td>130019503001</td>\n",
       "      <td>Block Group 1, Census Tract 9503, Appling Coun...</td>\n",
       "      <td>708</td>\n",
       "      <td>172</td>\n",
       "      <td>536</td>\n",
       "      <td>24.293785</td>\n",
       "      <td>75.706215</td>\n",
       "    </tr>\n",
       "    <tr>\n",
       "      <th>6</th>\n",
       "      <td>1500000US130019503002</td>\n",
       "      <td>130019503002</td>\n",
       "      <td>Block Group 2, Census Tract 9503, Appling Coun...</td>\n",
       "      <td>1585</td>\n",
       "      <td>581</td>\n",
       "      <td>1004</td>\n",
       "      <td>36.656151</td>\n",
       "      <td>63.343849</td>\n",
       "    </tr>\n",
       "    <tr>\n",
       "      <th>7</th>\n",
       "      <td>1500000US130019503003</td>\n",
       "      <td>130019503003</td>\n",
       "      <td>Block Group 3, Census Tract 9503, Appling Coun...</td>\n",
       "      <td>983</td>\n",
       "      <td>474</td>\n",
       "      <td>509</td>\n",
       "      <td>48.219736</td>\n",
       "      <td>51.780264</td>\n",
       "    </tr>\n",
       "    <tr>\n",
       "      <th>8</th>\n",
       "      <td>1500000US130019503004</td>\n",
       "      <td>130019503004</td>\n",
       "      <td>Block Group 4, Census Tract 9503, Appling Coun...</td>\n",
       "      <td>1460</td>\n",
       "      <td>1265</td>\n",
       "      <td>195</td>\n",
       "      <td>86.643836</td>\n",
       "      <td>13.356164</td>\n",
       "    </tr>\n",
       "    <tr>\n",
       "      <th>9</th>\n",
       "      <td>1500000US130019504001</td>\n",
       "      <td>130019504001</td>\n",
       "      <td>Block Group 1, Census Tract 9504, Appling Coun...</td>\n",
       "      <td>755</td>\n",
       "      <td>600</td>\n",
       "      <td>155</td>\n",
       "      <td>79.470199</td>\n",
       "      <td>20.529801</td>\n",
       "    </tr>\n",
       "  </tbody>\n",
       "</table>\n",
       "</div>"
      ],
      "text/plain": [
       "                      ID           ID2  \\\n",
       "0  1500000US130019501001  130019501001   \n",
       "1  1500000US130019501002  130019501002   \n",
       "2  1500000US130019502001  130019502001   \n",
       "3  1500000US130019502002  130019502002   \n",
       "4  1500000US130019502003  130019502003   \n",
       "5  1500000US130019503001  130019503001   \n",
       "6  1500000US130019503002  130019503002   \n",
       "7  1500000US130019503003  130019503003   \n",
       "8  1500000US130019503004  130019503004   \n",
       "9  1500000US130019504001  130019504001   \n",
       "\n",
       "                                           GEOGRAPHY  EST_T  \\\n",
       "0  Block Group 1, Census Tract 9501, Appling Coun...    912   \n",
       "1  Block Group 2, Census Tract 9501, Appling Coun...   2475   \n",
       "2  Block Group 1, Census Tract 9502, Appling Coun...   2036   \n",
       "3  Block Group 2, Census Tract 9502, Appling Coun...   1300   \n",
       "4  Block Group 3, Census Tract 9502, Appling Coun...   1036   \n",
       "5  Block Group 1, Census Tract 9503, Appling Coun...    708   \n",
       "6  Block Group 2, Census Tract 9503, Appling Coun...   1585   \n",
       "7  Block Group 3, Census Tract 9503, Appling Coun...    983   \n",
       "8  Block Group 4, Census Tract 9503, Appling Coun...   1460   \n",
       "9  Block Group 1, Census Tract 9504, Appling Coun...    755   \n",
       "\n",
       "   EST_T_OWNER_OCCUPIED  EST_T_RENTER_OCCUPIED  PCT_EST_T_OWNER_OCCUPIED  \\\n",
       "0                   664                    248                 72.807018   \n",
       "1                  2086                    389                 84.282828   \n",
       "2                  1642                    394                 80.648330   \n",
       "3                   494                    806                 38.000000   \n",
       "4                   707                    329                 68.243243   \n",
       "5                   172                    536                 24.293785   \n",
       "6                   581                   1004                 36.656151   \n",
       "7                   474                    509                 48.219736   \n",
       "8                  1265                    195                 86.643836   \n",
       "9                   600                    155                 79.470199   \n",
       "\n",
       "   PCT_EST_T_RENTER_OCCUPIED  \n",
       "0                  27.192982  \n",
       "1                  15.717172  \n",
       "2                  19.351670  \n",
       "3                  62.000000  \n",
       "4                  31.756757  \n",
       "5                  75.706215  \n",
       "6                  63.343849  \n",
       "7                  51.780264  \n",
       "8                  13.356164  \n",
       "9                  20.529801  "
      ]
     },
     "execution_count": 31,
     "metadata": {},
     "output_type": "execute_result"
    }
   ],
   "source": [
    "Housing = Housing.join(HousingPcts)\n",
    "Housing.head(10)"
   ]
  },
  {
   "cell_type": "code",
   "execution_count": 32,
   "metadata": {
    "collapsed": true
   },
   "outputs": [],
   "source": [
    "Housing.to_csv('Georgia/HousingTenureBG.csv')"
   ]
  },
  {
   "cell_type": "code",
   "execution_count": null,
   "metadata": {
    "collapsed": true
   },
   "outputs": [],
   "source": []
  }
 ],
 "metadata": {
  "anaconda-cloud": {},
  "kernelspec": {
   "display_name": "Python [default]",
   "language": "python",
   "name": "python2"
  },
  "language_info": {
   "codemirror_mode": {
    "name": "ipython",
    "version": 2
   },
   "file_extension": ".py",
   "mimetype": "text/x-python",
   "name": "python",
   "nbconvert_exporter": "python",
   "pygments_lexer": "ipython2",
   "version": "2.7.12"
  }
 },
 "nbformat": 4,
 "nbformat_minor": 0
}
